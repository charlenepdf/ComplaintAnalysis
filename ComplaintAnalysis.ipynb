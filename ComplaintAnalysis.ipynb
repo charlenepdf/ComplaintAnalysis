{
 "cells": [
  {
   "cell_type": "markdown",
   "id": "4335b2dd",
   "metadata": {},
   "source": [
    "### Install and load necessary packages"
   ]
  },
  {
   "cell_type": "code",
   "execution_count": 5,
   "id": "7a72da5b",
   "metadata": {},
   "outputs": [],
   "source": [
    "import pandas as pd\n",
    "import nltk\n",
    "from nltk.corpus import wordnet as wn\n",
    "from collections import Counter\n",
    "from wordcloud import WordCloud\n",
    "import matplotlib.pyplot as plt\n",
    "import re\n",
    "from nltk.corpus import stopwords\n",
    "from nltk.tokenize import word_tokenize"
   ]
  },
  {
   "cell_type": "markdown",
   "id": "097e2193",
   "metadata": {},
   "source": [
    "### Download necessary NLTK data files"
   ]
  },
  {
   "cell_type": "code",
   "execution_count": 35,
   "id": "4148bc0b",
   "metadata": {},
   "outputs": [
    {
     "name": "stderr",
     "output_type": "stream",
     "text": [
      "[nltk_data] Downloading package stopwords to\n",
      "[nltk_data]     C:\\Users\\charl\\AppData\\Roaming\\nltk_data...\n",
      "[nltk_data]   Unzipping corpora\\stopwords.zip.\n",
      "[nltk_data] Downloading package punkt to\n",
      "[nltk_data]     C:\\Users\\charl\\AppData\\Roaming\\nltk_data...\n",
      "[nltk_data]   Unzipping tokenizers\\punkt.zip.\n",
      "[nltk_data] Downloading package wordnet to\n",
      "[nltk_data]     C:\\Users\\charl\\AppData\\Roaming\\nltk_data...\n"
     ]
    },
    {
     "data": {
      "text/plain": [
       "True"
      ]
     },
     "execution_count": 35,
     "metadata": {},
     "output_type": "execute_result"
    }
   ],
   "source": [
    "nltk.download('stopwords')\n",
    "nltk.download('punkt')\n",
    "nltk.download('wordnet')"
   ]
  },
  {
   "cell_type": "markdown",
   "id": "8651357d",
   "metadata": {},
   "source": [
    "### Load dataset then combine 'Issue' and 'Sub-Issue' columns into a single text field"
   ]
  },
  {
   "cell_type": "code",
   "execution_count": 25,
   "id": "5f39f185",
   "metadata": {},
   "outputs": [],
   "source": [
    "complaints_df = pd.read_csv(\"C:/Users/charl/Documents/Complaint Analysis/ComplaintAnalysis-clean/rows.csv.zip\",\n",
    "                           low_memory=False)\n",
    "\n",
    "complaints_df['combined_text'] = complaints_df[['Issue', 'Sub-issue']].astype(str).agg(' '.join, axis=1)"
   ]
  },
  {
   "cell_type": "markdown",
   "id": "5d014367",
   "metadata": {},
   "source": [
    "### Preprocess text"
   ]
  },
  {
   "cell_type": "code",
   "execution_count": 29,
   "id": "df40203c",
   "metadata": {},
   "outputs": [],
   "source": [
    "def preprocess_text(text):\n",
    "    text = text.lower()  # Lowercase\n",
    "    text = re.sub(r'\\d+', '', text)  # Remove numbers\n",
    "    text = re.sub(r'[^\\w\\s]', '', text)  # Remove punctuation\n",
    "    text = re.sub(r'\\s+', ' ', text)  # Remove extra whitespace\n",
    "    return text\n",
    "\n",
    "complaints_df['cleaned_text'] = complaints_df['combined_text'].apply(preprocess_text)"
   ]
  },
  {
   "cell_type": "markdown",
   "id": "797dd63c",
   "metadata": {},
   "source": [
    "### Synonym expansion using WordNet"
   ]
  },
  {
   "cell_type": "code",
   "execution_count": 31,
   "id": "0ced2ac1",
   "metadata": {},
   "outputs": [],
   "source": [
    "def get_synonyms(word):\n",
    "    synonyms = set()\n",
    "    for syn in wn.synsets(word):\n",
    "        for lemma in syn.lemmas():\n",
    "            synonyms.add(lemma.name().lower())\n",
    "    return synonyms"
   ]
  },
  {
   "cell_type": "markdown",
   "id": "97556b42",
   "metadata": {},
   "source": [
    "### Define topic mapping using synonyms"
   ]
  },
  {
   "cell_type": "code",
   "execution_count": 32,
   "id": "a2038d43",
   "metadata": {},
   "outputs": [],
   "source": [
    "topic_mapping = {\n",
    "    'debt collection': ['debt collection', 'other debt', 'medical debt'],\n",
    "    'credit reporting': ['credit reporting', 'credit repair services', 'personal consumer reports'],\n",
    "    'communication tactics': ['communication tactics', 'talked to a third-party about your debt', 'used obscene, profane, or other abusive language', 'frequent or repeated calls'],\n",
    "    'incorrect information': ['incorrect information', 'incorrect information on your report', 'information belongs to someone else'],\n",
    "    'legal action': ['threatened to take negative or legal action', 'threatened to sue you for very old debt'],\n",
    "    'notification issues': ['written notification about debt', 'didn\\'t receive enough information to verify debt', 'didn\\'t receive notice of right to dispute']\n",
    "    \n",
    "}"
   ]
  },
  {
   "cell_type": "markdown",
   "id": "f8bb26db",
   "metadata": {},
   "source": [
    "### Replace related words with topic keywords"
   ]
  },
  {
   "cell_type": "code",
   "execution_count": 33,
   "id": "bd00c95f",
   "metadata": {},
   "outputs": [],
   "source": [
    "def replace_with_topic_keywords(text, topic_mapping):\n",
    "    for topic, related_words in topic_mapping.items():\n",
    "        for word in related_words:\n",
    "            text = re.sub(r'\\b' + re.escape(word) + r'\\b', topic, text)\n",
    "    return text\n",
    "\n",
    "complaints_df['mapped_text'] = complaints_df['cleaned_text'].apply(lambda x: replace_with_topic_keywords(x, topic_mapping))"
   ]
  },
  {
   "cell_type": "markdown",
   "id": "2f0281f0",
   "metadata": {},
   "source": [
    "### Tokenize and remove stopwords"
   ]
  },
  {
   "cell_type": "code",
   "execution_count": 36,
   "id": "82f92c39",
   "metadata": {},
   "outputs": [],
   "source": [
    "stop_words = set(stopwords.words('english'))\n",
    "complaints_df['tokens'] = complaints_df['mapped_text'].apply(word_tokenize)\n",
    "complaints_df['filtered_tokens'] = complaints_df['tokens'].apply(lambda x: [word for word in x if word not in stop_words])"
   ]
  },
  {
   "cell_type": "code",
   "execution_count": null,
   "id": "9ad45481",
   "metadata": {},
   "outputs": [],
   "source": []
  }
 ],
 "metadata": {
  "kernelspec": {
   "display_name": "Python 3 (ipykernel)",
   "language": "python",
   "name": "python3"
  },
  "language_info": {
   "codemirror_mode": {
    "name": "ipython",
    "version": 3
   },
   "file_extension": ".py",
   "mimetype": "text/x-python",
   "name": "python",
   "nbconvert_exporter": "python",
   "pygments_lexer": "ipython3",
   "version": "3.11.4"
  }
 },
 "nbformat": 4,
 "nbformat_minor": 5
}
