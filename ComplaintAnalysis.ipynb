{
 "cells": [
  {
   "cell_type": "markdown",
   "id": "6edff0aa",
   "metadata": {},
   "source": [
    "### Install and load necessary packages"
   ]
  },
  {
   "cell_type": "code",
   "execution_count": 5,
   "id": "5ed62401",
   "metadata": {},
   "outputs": [],
   "source": [
    "import pandas as pd\n",
    "import nltk\n",
    "from nltk.corpus import wordnet as wn\n",
    "from collections import Counter\n",
    "from wordcloud import WordCloud\n",
    "import matplotlib.pyplot as plt\n",
    "import re\n",
    "from nltk.corpus import stopwords\n",
    "from nltk.tokenize import word_tokenize"
   ]
  },
  {
   "cell_type": "markdown",
   "id": "8797c105",
   "metadata": {},
   "source": [
    "### Load dataset then combine 'Issue' and 'Sub-Issue' columns into a single text field"
   ]
  },
  {
   "cell_type": "code",
   "execution_count": null,
   "id": "a82ce375",
   "metadata": {},
   "outputs": [],
   "source": [
    "complaints_df = pd.read_csv(\"C:/Users/charl/Documents/Complaint Analysis/ComplaintAnalysis-clean/rows.csv.zip\",\n",
    "                           low_memory=False)\n",
    "\n",
    "complaints_df['combined_text'] = complaints_df[['Issue', 'Sub-issue']].astype(str).agg(' '.join, axis=1)"
   ]
  },
  {
   "cell_type": "markdown",
   "id": "ffa56a01",
   "metadata": {},
   "source": [
    "### Preprocess text"
   ]
  },
  {
   "cell_type": "code",
   "execution_count": 23,
   "id": "182d9298",
   "metadata": {},
   "outputs": [],
   "source": [
    "def preprocess_text(text):\n",
    "    text = text.lower()  # Lowercase\n",
    "    text = re.sub(r'\\d+', '', text)  # Remove numbers\n",
    "    text = re.sub(r'[^\\w\\s]', '', text)  # Remove punctuation\n",
    "    text = re.sub(r'\\s+', ' ', text)  # Remove extra whitespace\n",
    "    return text\n",
    "\n",
    "cleaned_text = preprocess_text(text)"
   ]
  },
  {
   "cell_type": "markdown",
   "id": "f38422a7",
   "metadata": {},
   "source": [
    "### Synonym expansion using WordNet"
   ]
  },
  {
   "cell_type": "code",
   "execution_count": 24,
   "id": "3dd3d245",
   "metadata": {},
   "outputs": [],
   "source": [
    "def get_synonyms(word):\n",
    "    synonyms = set()\n",
    "    for syn in wn.synsets(word):\n",
    "        for lemma in syn.lemmas():\n",
    "            synonyms.add(lemma.name().lower())\n",
    "    return synonyms"
   ]
  },
  {
   "cell_type": "markdown",
   "id": "3b3caf94",
   "metadata": {},
   "source": [
    "### Define topic mapping using synonyms"
   ]
  },
  {
   "cell_type": "code",
   "execution_count": 17,
   "id": "8f07da69",
   "metadata": {},
   "outputs": [],
   "source": [
    "topic_mapping = {\n",
    "    'debt collection': ['debt collection', 'other debt', 'medical debt'],\n",
    "    'credit reporting': ['credit reporting', 'credit repair services', 'personal consumer reports'],\n",
    "    'communication tactics': ['communication tactics', 'talked to a third-party about your debt', 'used obscene, profane, or other abusive language', 'frequent or repeated calls'],\n",
    "    'incorrect information': ['incorrect information', 'incorrect information on your report', 'information belongs to someone else'],\n",
    "    'legal action': ['threatened to take negative or legal action', 'threatened to sue you for very old debt'],\n",
    "    'notification issues': ['written notification about debt', 'didn\\'t receive enough information to verify debt', 'didn\\'t receive notice of right to dispute']\n",
    "    \n",
    "}"
   ]
  }
 ],
 "metadata": {
  "kernelspec": {
   "display_name": "Python 3 (ipykernel)",
   "language": "python",
   "name": "python3"
  },
  "language_info": {
   "codemirror_mode": {
    "name": "ipython",
    "version": 3
   },
   "file_extension": ".py",
   "mimetype": "text/x-python",
   "name": "python",
   "nbconvert_exporter": "python",
   "pygments_lexer": "ipython3",
   "version": "3.11.4"
  }
 },
 "nbformat": 4,
 "nbformat_minor": 5
}
