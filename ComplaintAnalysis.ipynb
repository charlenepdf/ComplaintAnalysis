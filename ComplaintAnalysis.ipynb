{
 "cells": [
  {
   "cell_type": "markdown",
   "id": "dcf41ac7",
   "metadata": {},
   "source": [
    "### Install and load necessary packages"
   ]
  },
  {
   "cell_type": "code",
   "execution_count": 5,
   "id": "a536bd98",
   "metadata": {},
   "outputs": [],
   "source": [
    "import pandas as pd\n",
    "import nltk\n",
    "from nltk.corpus import wordnet as wn\n",
    "from collections import Counter\n",
    "from wordcloud import WordCloud\n",
    "import matplotlib.pyplot as plt\n",
    "import re\n",
    "from nltk.corpus import stopwords\n",
    "from nltk.tokenize import word_tokenize"
   ]
  },
  {
   "cell_type": "markdown",
   "id": "ad82c0bc",
   "metadata": {},
   "source": [
    "### Load dataset then extract the 'Issue' column and convert list to single string"
   ]
  },
  {
   "cell_type": "code",
   "execution_count": 8,
   "id": "d13c14f3",
   "metadata": {},
   "outputs": [],
   "source": [
    "complaints_df = pd.read_csv(\"C:/Users/charl/Documents/Complaint Analysis/rows.csv.zip\",\n",
    "                           low_memory=False)\n",
    "\n",
    "issues = complaints_df['Issue'].dropna().tolist()\n",
    "text = ' '.join(issues)"
   ]
  }
 ],
 "metadata": {
  "kernelspec": {
   "display_name": "Python 3 (ipykernel)",
   "language": "python",
   "name": "python3"
  },
  "language_info": {
   "codemirror_mode": {
    "name": "ipython",
    "version": 3
   },
   "file_extension": ".py",
   "mimetype": "text/x-python",
   "name": "python",
   "nbconvert_exporter": "python",
   "pygments_lexer": "ipython3",
   "version": "3.11.4"
  }
 },
 "nbformat": 4,
 "nbformat_minor": 5
}
